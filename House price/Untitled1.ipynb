{
 "cells": [
  {
   "cell_type": "code",
   "execution_count": 1,
   "metadata": {},
   "outputs": [],
   "source": [
    "import pandas as pd\n",
    "import numpy as np\n",
    "import matplotlib.pyplot as plt\n",
    "import seaborn as sb"
   ]
  },
  {
   "cell_type": "code",
   "execution_count": 2,
   "metadata": {},
   "outputs": [],
   "source": [
    "df_train = pd.read_csv('train.csv')\n",
    "df_test = pd.read_csv('test.csv')"
   ]
  },
  {
   "cell_type": "code",
   "execution_count": 3,
   "metadata": {},
   "outputs": [],
   "source": [
    "df = pd.concat([df_train,df_test],sort=False)"
   ]
  },
  {
   "cell_type": "code",
   "execution_count": 4,
   "metadata": {},
   "outputs": [],
   "source": [
    "df_0 = df.copy()"
   ]
  },
  {
   "cell_type": "markdown",
   "metadata": {},
   "source": [
    "# Filling null values"
   ]
  },
  {
   "cell_type": "code",
   "execution_count": 5,
   "metadata": {},
   "outputs": [],
   "source": [
    "df[\"LotFrontage\"].fillna(0, inplace = True)\n",
    "df[\"MasVnrArea\"].fillna(0, inplace = True)\n",
    "df[\"BsmtFinSF1\"].fillna(0, inplace = True)\n",
    "df[\"BsmtFinSF2\"].fillna(0, inplace = True)\n",
    "df[\"BsmtUnfSF\"].fillna(0, inplace = True)\n",
    "df[\"TotalBsmtSF\"].fillna(0, inplace = True)\n",
    "df[\"GarageCars\"].fillna(0, inplace = True)\n",
    "df[\"GarageArea\"].fillna(0, inplace = True)"
   ]
  },
  {
   "cell_type": "code",
   "execution_count": 6,
   "metadata": {},
   "outputs": [],
   "source": [
    "df[\"Alley\"].fillna('No', inplace = True)\n",
    "df[\"MasVnrType\"].fillna('No', inplace = True)\n",
    "df[\"GarageType\"].fillna('No', inplace = True)\n",
    "df[\"MiscFeature\"].fillna('No', inplace = True)\n",
    "df[\"BsmtQual\"].fillna('No', inplace = True)\n",
    "df[\"BsmtCond\"].fillna('No', inplace = True)\n",
    "df[\"BsmtExposure\"].fillna('No', inplace = True)\n",
    "df[\"BsmtFinType1\"].fillna('No', inplace = True)\n",
    "df[\"BsmtFinType2\"].fillna('No', inplace = True)\n",
    "df[\"FireplaceQu\"].fillna('No', inplace = True)\n",
    "df[\"PoolQC\"].fillna('No', inplace = True)\n",
    "df[\"Fence\"].fillna('No', inplace = True)"
   ]
  },
  {
   "cell_type": "code",
   "execution_count": 7,
   "metadata": {},
   "outputs": [],
   "source": [
    "null_num =['BsmtFullBath', 'BsmtHalfBath']\n",
    "null_obj = ['MSZoning', 'Utilities', 'Exterior1st', 'Exterior2nd', 'Electrical', 'KitchenQual', 'Functional', 'SaleType']"
   ]
  },
  {
   "cell_type": "code",
   "execution_count": 8,
   "metadata": {},
   "outputs": [],
   "source": [
    "for x in null_num:\n",
    "    df[x].fillna(df[x].median(), inplace = True)"
   ]
  },
  {
   "cell_type": "code",
   "execution_count": 9,
   "metadata": {},
   "outputs": [],
   "source": [
    "for x in null_obj:\n",
    "    df[x].fillna(df[x].mode()[0], inplace = True)"
   ]
  },
  {
   "cell_type": "code",
   "execution_count": 10,
   "metadata": {},
   "outputs": [
    {
     "name": "stdout",
     "output_type": "stream",
     "text": [
      "5\n"
     ]
    }
   ],
   "source": [
    "i = 0\n",
    "for x in range(len(df.columns)):\n",
    "    if df.iloc[:,x].isnull().sum() > 0:\n",
    "        i += 1\n",
    "print(i)"
   ]
  },
  {
   "cell_type": "code",
   "execution_count": 11,
   "metadata": {},
   "outputs": [],
   "source": [
    "null_com = ['GarageYrBlt', 'GarageFinish', 'GarageQual', 'GarageCond']"
   ]
  },
  {
   "cell_type": "code",
   "execution_count": 12,
   "metadata": {},
   "outputs": [],
   "source": [
    "for x in null_com:\n",
    "    df[x].fillna(0, inplace=True)"
   ]
  },
  {
   "cell_type": "code",
   "execution_count": 13,
   "metadata": {},
   "outputs": [],
   "source": [
    "for x in range(df.shape[0]):\n",
    "    for y in null_com:\n",
    "        if df.iloc[x,df.columns.get_loc(\"GarageType\")] == 'No':\n",
    "            df.iloc[x,df.columns.get_loc(y)] = 0\n",
    "        elif df.iloc[x,df.columns.get_loc(\"GarageType\")] != 'No' and df.iloc[x,df.columns.get_loc(y)] == 'No':\n",
    "            df.iloc[x,df.columns.get_loc(y)] = df[y].median()"
   ]
  },
  {
   "cell_type": "code",
   "execution_count": 14,
   "metadata": {},
   "outputs": [
    {
     "data": {
      "text/plain": [
       "38"
      ]
     },
     "execution_count": 14,
     "metadata": {},
     "output_type": "execute_result"
    }
   ],
   "source": [
    "columns_numeric = list(df.dtypes[(df.dtypes=='int64') | (df.dtypes=='float64') ].index)\n",
    "len(columns_numeric)"
   ]
  },
  {
   "cell_type": "code",
   "execution_count": 15,
   "metadata": {},
   "outputs": [
    {
     "data": {
      "text/plain": [
       "43"
      ]
     },
     "execution_count": 15,
     "metadata": {},
     "output_type": "execute_result"
    }
   ],
   "source": [
    "columns_object = list(df.dtypes[df.dtypes=='object'].index)\n",
    "len(columns_object)"
   ]
  },
  {
   "cell_type": "markdown",
   "metadata": {},
   "source": [
    "# Feature Encoding"
   ]
  },
  {
   "cell_type": "code",
   "execution_count": 16,
   "metadata": {},
   "outputs": [
    {
     "data": {
      "text/plain": [
       "(2919, 304)"
      ]
     },
     "execution_count": 16,
     "metadata": {},
     "output_type": "execute_result"
    }
   ],
   "source": [
    "df2 = df.copy()\n",
    "for x in columns_object:\n",
    "    temp = pd.get_dummies(df2[x],prefix=x)\n",
    "    df2 = pd.concat([df2,temp],axis=1)\n",
    "    df2.drop(x,axis=1,inplace=True)\n",
    "df2.shape"
   ]
  },
  {
   "cell_type": "code",
   "execution_count": 17,
   "metadata": {},
   "outputs": [],
   "source": [
    "df2.drop(['Id'],axis=1,inplace=True)"
   ]
  },
  {
   "cell_type": "code",
   "execution_count": 18,
   "metadata": {},
   "outputs": [
    {
     "data": {
      "text/plain": [
       "(2919, 303)"
      ]
     },
     "execution_count": 18,
     "metadata": {},
     "output_type": "execute_result"
    }
   ],
   "source": [
    "df2.shape"
   ]
  },
  {
   "cell_type": "markdown",
   "metadata": {},
   "source": [
    "# Feature Selection"
   ]
  },
  {
   "cell_type": "code",
   "execution_count": 19,
   "metadata": {},
   "outputs": [],
   "source": [
    "x = df2.drop(['SalePrice'],axis=1)"
   ]
  },
  {
   "cell_type": "code",
   "execution_count": 20,
   "metadata": {},
   "outputs": [],
   "source": [
    "y = df2['SalePrice']"
   ]
  },
  {
   "cell_type": "code",
   "execution_count": 21,
   "metadata": {},
   "outputs": [],
   "source": [
    "corr = x.corr(method='pearson')"
   ]
  },
  {
   "cell_type": "code",
   "execution_count": 22,
   "metadata": {},
   "outputs": [],
   "source": [
    "columns = np.full((corr.shape[0],), True, dtype=bool)\n",
    "for i in range(corr.shape[0]):\n",
    "    for j in range(i+1, corr.shape[0]):\n",
    "        if corr.iloc[i,j] >= 0.9:\n",
    "            if columns[j]:\n",
    "                columns[j] = False\n",
    "selected_columns = x.columns[columns]\n",
    "x2 = x[selected_columns]"
   ]
  },
  {
   "cell_type": "code",
   "execution_count": 23,
   "metadata": {},
   "outputs": [
    {
     "data": {
      "text/html": [
       "<div>\n",
       "<style scoped>\n",
       "    .dataframe tbody tr th:only-of-type {\n",
       "        vertical-align: middle;\n",
       "    }\n",
       "\n",
       "    .dataframe tbody tr th {\n",
       "        vertical-align: top;\n",
       "    }\n",
       "\n",
       "    .dataframe thead th {\n",
       "        text-align: right;\n",
       "    }\n",
       "</style>\n",
       "<table border=\"1\" class=\"dataframe\">\n",
       "  <thead>\n",
       "    <tr style=\"text-align: right;\">\n",
       "      <th></th>\n",
       "      <th>MSSubClass</th>\n",
       "      <th>LotFrontage</th>\n",
       "      <th>LotArea</th>\n",
       "      <th>OverallQual</th>\n",
       "      <th>OverallCond</th>\n",
       "      <th>YearBuilt</th>\n",
       "      <th>YearRemodAdd</th>\n",
       "      <th>MasVnrArea</th>\n",
       "      <th>BsmtFinSF1</th>\n",
       "      <th>BsmtFinSF2</th>\n",
       "      <th>...</th>\n",
       "      <th>SaleType_ConLI</th>\n",
       "      <th>SaleType_ConLw</th>\n",
       "      <th>SaleType_New</th>\n",
       "      <th>SaleType_Oth</th>\n",
       "      <th>SaleType_WD</th>\n",
       "      <th>SaleCondition_Abnorml</th>\n",
       "      <th>SaleCondition_AdjLand</th>\n",
       "      <th>SaleCondition_Alloca</th>\n",
       "      <th>SaleCondition_Family</th>\n",
       "      <th>SaleCondition_Normal</th>\n",
       "    </tr>\n",
       "  </thead>\n",
       "  <tbody>\n",
       "    <tr>\n",
       "      <td>0</td>\n",
       "      <td>60</td>\n",
       "      <td>65.0</td>\n",
       "      <td>8450</td>\n",
       "      <td>7</td>\n",
       "      <td>5</td>\n",
       "      <td>2003</td>\n",
       "      <td>2003</td>\n",
       "      <td>196.0</td>\n",
       "      <td>706.0</td>\n",
       "      <td>0.0</td>\n",
       "      <td>...</td>\n",
       "      <td>0</td>\n",
       "      <td>0</td>\n",
       "      <td>0</td>\n",
       "      <td>0</td>\n",
       "      <td>1</td>\n",
       "      <td>0</td>\n",
       "      <td>0</td>\n",
       "      <td>0</td>\n",
       "      <td>0</td>\n",
       "      <td>1</td>\n",
       "    </tr>\n",
       "    <tr>\n",
       "      <td>1</td>\n",
       "      <td>20</td>\n",
       "      <td>80.0</td>\n",
       "      <td>9600</td>\n",
       "      <td>6</td>\n",
       "      <td>8</td>\n",
       "      <td>1976</td>\n",
       "      <td>1976</td>\n",
       "      <td>0.0</td>\n",
       "      <td>978.0</td>\n",
       "      <td>0.0</td>\n",
       "      <td>...</td>\n",
       "      <td>0</td>\n",
       "      <td>0</td>\n",
       "      <td>0</td>\n",
       "      <td>0</td>\n",
       "      <td>1</td>\n",
       "      <td>0</td>\n",
       "      <td>0</td>\n",
       "      <td>0</td>\n",
       "      <td>0</td>\n",
       "      <td>1</td>\n",
       "    </tr>\n",
       "    <tr>\n",
       "      <td>2</td>\n",
       "      <td>60</td>\n",
       "      <td>68.0</td>\n",
       "      <td>11250</td>\n",
       "      <td>7</td>\n",
       "      <td>5</td>\n",
       "      <td>2001</td>\n",
       "      <td>2002</td>\n",
       "      <td>162.0</td>\n",
       "      <td>486.0</td>\n",
       "      <td>0.0</td>\n",
       "      <td>...</td>\n",
       "      <td>0</td>\n",
       "      <td>0</td>\n",
       "      <td>0</td>\n",
       "      <td>0</td>\n",
       "      <td>1</td>\n",
       "      <td>0</td>\n",
       "      <td>0</td>\n",
       "      <td>0</td>\n",
       "      <td>0</td>\n",
       "      <td>1</td>\n",
       "    </tr>\n",
       "    <tr>\n",
       "      <td>3</td>\n",
       "      <td>70</td>\n",
       "      <td>60.0</td>\n",
       "      <td>9550</td>\n",
       "      <td>7</td>\n",
       "      <td>5</td>\n",
       "      <td>1915</td>\n",
       "      <td>1970</td>\n",
       "      <td>0.0</td>\n",
       "      <td>216.0</td>\n",
       "      <td>0.0</td>\n",
       "      <td>...</td>\n",
       "      <td>0</td>\n",
       "      <td>0</td>\n",
       "      <td>0</td>\n",
       "      <td>0</td>\n",
       "      <td>1</td>\n",
       "      <td>1</td>\n",
       "      <td>0</td>\n",
       "      <td>0</td>\n",
       "      <td>0</td>\n",
       "      <td>0</td>\n",
       "    </tr>\n",
       "    <tr>\n",
       "      <td>4</td>\n",
       "      <td>60</td>\n",
       "      <td>84.0</td>\n",
       "      <td>14260</td>\n",
       "      <td>8</td>\n",
       "      <td>5</td>\n",
       "      <td>2000</td>\n",
       "      <td>2000</td>\n",
       "      <td>350.0</td>\n",
       "      <td>655.0</td>\n",
       "      <td>0.0</td>\n",
       "      <td>...</td>\n",
       "      <td>0</td>\n",
       "      <td>0</td>\n",
       "      <td>0</td>\n",
       "      <td>0</td>\n",
       "      <td>1</td>\n",
       "      <td>0</td>\n",
       "      <td>0</td>\n",
       "      <td>0</td>\n",
       "      <td>0</td>\n",
       "      <td>1</td>\n",
       "    </tr>\n",
       "    <tr>\n",
       "      <td>...</td>\n",
       "      <td>...</td>\n",
       "      <td>...</td>\n",
       "      <td>...</td>\n",
       "      <td>...</td>\n",
       "      <td>...</td>\n",
       "      <td>...</td>\n",
       "      <td>...</td>\n",
       "      <td>...</td>\n",
       "      <td>...</td>\n",
       "      <td>...</td>\n",
       "      <td>...</td>\n",
       "      <td>...</td>\n",
       "      <td>...</td>\n",
       "      <td>...</td>\n",
       "      <td>...</td>\n",
       "      <td>...</td>\n",
       "      <td>...</td>\n",
       "      <td>...</td>\n",
       "      <td>...</td>\n",
       "      <td>...</td>\n",
       "      <td>...</td>\n",
       "    </tr>\n",
       "    <tr>\n",
       "      <td>1454</td>\n",
       "      <td>160</td>\n",
       "      <td>21.0</td>\n",
       "      <td>1936</td>\n",
       "      <td>4</td>\n",
       "      <td>7</td>\n",
       "      <td>1970</td>\n",
       "      <td>1970</td>\n",
       "      <td>0.0</td>\n",
       "      <td>0.0</td>\n",
       "      <td>0.0</td>\n",
       "      <td>...</td>\n",
       "      <td>0</td>\n",
       "      <td>0</td>\n",
       "      <td>0</td>\n",
       "      <td>0</td>\n",
       "      <td>1</td>\n",
       "      <td>0</td>\n",
       "      <td>0</td>\n",
       "      <td>0</td>\n",
       "      <td>0</td>\n",
       "      <td>1</td>\n",
       "    </tr>\n",
       "    <tr>\n",
       "      <td>1455</td>\n",
       "      <td>160</td>\n",
       "      <td>21.0</td>\n",
       "      <td>1894</td>\n",
       "      <td>4</td>\n",
       "      <td>5</td>\n",
       "      <td>1970</td>\n",
       "      <td>1970</td>\n",
       "      <td>0.0</td>\n",
       "      <td>252.0</td>\n",
       "      <td>0.0</td>\n",
       "      <td>...</td>\n",
       "      <td>0</td>\n",
       "      <td>0</td>\n",
       "      <td>0</td>\n",
       "      <td>0</td>\n",
       "      <td>1</td>\n",
       "      <td>1</td>\n",
       "      <td>0</td>\n",
       "      <td>0</td>\n",
       "      <td>0</td>\n",
       "      <td>0</td>\n",
       "    </tr>\n",
       "    <tr>\n",
       "      <td>1456</td>\n",
       "      <td>20</td>\n",
       "      <td>160.0</td>\n",
       "      <td>20000</td>\n",
       "      <td>5</td>\n",
       "      <td>7</td>\n",
       "      <td>1960</td>\n",
       "      <td>1996</td>\n",
       "      <td>0.0</td>\n",
       "      <td>1224.0</td>\n",
       "      <td>0.0</td>\n",
       "      <td>...</td>\n",
       "      <td>0</td>\n",
       "      <td>0</td>\n",
       "      <td>0</td>\n",
       "      <td>0</td>\n",
       "      <td>1</td>\n",
       "      <td>1</td>\n",
       "      <td>0</td>\n",
       "      <td>0</td>\n",
       "      <td>0</td>\n",
       "      <td>0</td>\n",
       "    </tr>\n",
       "    <tr>\n",
       "      <td>1457</td>\n",
       "      <td>85</td>\n",
       "      <td>62.0</td>\n",
       "      <td>10441</td>\n",
       "      <td>5</td>\n",
       "      <td>5</td>\n",
       "      <td>1992</td>\n",
       "      <td>1992</td>\n",
       "      <td>0.0</td>\n",
       "      <td>337.0</td>\n",
       "      <td>0.0</td>\n",
       "      <td>...</td>\n",
       "      <td>0</td>\n",
       "      <td>0</td>\n",
       "      <td>0</td>\n",
       "      <td>0</td>\n",
       "      <td>1</td>\n",
       "      <td>0</td>\n",
       "      <td>0</td>\n",
       "      <td>0</td>\n",
       "      <td>0</td>\n",
       "      <td>1</td>\n",
       "    </tr>\n",
       "    <tr>\n",
       "      <td>1458</td>\n",
       "      <td>60</td>\n",
       "      <td>74.0</td>\n",
       "      <td>9627</td>\n",
       "      <td>7</td>\n",
       "      <td>5</td>\n",
       "      <td>1993</td>\n",
       "      <td>1994</td>\n",
       "      <td>94.0</td>\n",
       "      <td>758.0</td>\n",
       "      <td>0.0</td>\n",
       "      <td>...</td>\n",
       "      <td>0</td>\n",
       "      <td>0</td>\n",
       "      <td>0</td>\n",
       "      <td>0</td>\n",
       "      <td>1</td>\n",
       "      <td>0</td>\n",
       "      <td>0</td>\n",
       "      <td>0</td>\n",
       "      <td>0</td>\n",
       "      <td>1</td>\n",
       "    </tr>\n",
       "  </tbody>\n",
       "</table>\n",
       "<p>2919 rows × 292 columns</p>\n",
       "</div>"
      ],
      "text/plain": [
       "      MSSubClass  LotFrontage  LotArea  OverallQual  OverallCond  YearBuilt  \\\n",
       "0             60         65.0     8450            7            5       2003   \n",
       "1             20         80.0     9600            6            8       1976   \n",
       "2             60         68.0    11250            7            5       2001   \n",
       "3             70         60.0     9550            7            5       1915   \n",
       "4             60         84.0    14260            8            5       2000   \n",
       "...          ...          ...      ...          ...          ...        ...   \n",
       "1454         160         21.0     1936            4            7       1970   \n",
       "1455         160         21.0     1894            4            5       1970   \n",
       "1456          20        160.0    20000            5            7       1960   \n",
       "1457          85         62.0    10441            5            5       1992   \n",
       "1458          60         74.0     9627            7            5       1993   \n",
       "\n",
       "      YearRemodAdd  MasVnrArea  BsmtFinSF1  BsmtFinSF2  ...  SaleType_ConLI  \\\n",
       "0             2003       196.0       706.0         0.0  ...               0   \n",
       "1             1976         0.0       978.0         0.0  ...               0   \n",
       "2             2002       162.0       486.0         0.0  ...               0   \n",
       "3             1970         0.0       216.0         0.0  ...               0   \n",
       "4             2000       350.0       655.0         0.0  ...               0   \n",
       "...            ...         ...         ...         ...  ...             ...   \n",
       "1454          1970         0.0         0.0         0.0  ...               0   \n",
       "1455          1970         0.0       252.0         0.0  ...               0   \n",
       "1456          1996         0.0      1224.0         0.0  ...               0   \n",
       "1457          1992         0.0       337.0         0.0  ...               0   \n",
       "1458          1994        94.0       758.0         0.0  ...               0   \n",
       "\n",
       "      SaleType_ConLw  SaleType_New  SaleType_Oth  SaleType_WD  \\\n",
       "0                  0             0             0            1   \n",
       "1                  0             0             0            1   \n",
       "2                  0             0             0            1   \n",
       "3                  0             0             0            1   \n",
       "4                  0             0             0            1   \n",
       "...              ...           ...           ...          ...   \n",
       "1454               0             0             0            1   \n",
       "1455               0             0             0            1   \n",
       "1456               0             0             0            1   \n",
       "1457               0             0             0            1   \n",
       "1458               0             0             0            1   \n",
       "\n",
       "      SaleCondition_Abnorml  SaleCondition_AdjLand  SaleCondition_Alloca  \\\n",
       "0                         0                      0                     0   \n",
       "1                         0                      0                     0   \n",
       "2                         0                      0                     0   \n",
       "3                         1                      0                     0   \n",
       "4                         0                      0                     0   \n",
       "...                     ...                    ...                   ...   \n",
       "1454                      0                      0                     0   \n",
       "1455                      1                      0                     0   \n",
       "1456                      1                      0                     0   \n",
       "1457                      0                      0                     0   \n",
       "1458                      0                      0                     0   \n",
       "\n",
       "      SaleCondition_Family  SaleCondition_Normal  \n",
       "0                        0                     1  \n",
       "1                        0                     1  \n",
       "2                        0                     1  \n",
       "3                        0                     0  \n",
       "4                        0                     1  \n",
       "...                    ...                   ...  \n",
       "1454                     0                     1  \n",
       "1455                     0                     0  \n",
       "1456                     0                     0  \n",
       "1457                     0                     1  \n",
       "1458                     0                     1  \n",
       "\n",
       "[2919 rows x 292 columns]"
      ]
     },
     "execution_count": 23,
     "metadata": {},
     "output_type": "execute_result"
    }
   ],
   "source": [
    "x[selected_columns]"
   ]
  },
  {
   "cell_type": "code",
   "execution_count": 24,
   "metadata": {},
   "outputs": [],
   "source": [
    "x2_train = x2.iloc[:1460,:]\n",
    "y_train = y.iloc[:1460]"
   ]
  },
  {
   "cell_type": "code",
   "execution_count": 29,
   "metadata": {},
   "outputs": [],
   "source": [
    "df3 = x2.copy()\n",
    "df3['SalePrice'] = y"
   ]
  },
  {
   "cell_type": "code",
   "execution_count": 30,
   "metadata": {},
   "outputs": [],
   "source": [
    "corr = df3.corr(method='pearson')['SalePrice']"
   ]
  },
  {
   "cell_type": "code",
   "execution_count": 32,
   "metadata": {},
   "outputs": [
    {
     "name": "stdout",
     "output_type": "stream",
     "text": [
      "Dropping column: BsmtFinSF2: -0.011378121450215216\n",
      "\n",
      "Dropping column: LowQualFinSF: -0.02560613000068015\n",
      "\n",
      "Dropping column: BsmtHalfBath: -0.016844154297359294\n",
      "\n",
      "Dropping column: 3SsnPorch: 0.04458366533574792\n",
      "\n",
      "Dropping column: MiscVal: -0.02118957964030379\n",
      "\n",
      "Dropping column: MoSold: 0.04643224522381936\n",
      "\n",
      "Dropping column: YrSold: -0.028922585168730426\n",
      "\n",
      "Dropping column: MSZoning_RM: -0.04103553550004982\n",
      "\n",
      "Dropping column: Street_Grvl: 0.04103553550004989\n",
      "\n",
      "Dropping column: Alley_No: -0.027655379955633733\n",
      "\n",
      "Dropping column: LotShape_IR2: 0.036720475499535554\n",
      "\n",
      "Dropping column: LandContour_HLS: 0.04552825032749539\n",
      "\n",
      "Dropping column: LandContour_Low: -0.02754457933083911\n",
      "\n",
      "Dropping column: LandContour_Lvl: 0.014314296147248953\n",
      "\n",
      "Dropping column: Utilities_AllPub: -0.014314296147248952\n",
      "\n",
      "Dropping column: Utilities_NoSeWa: 0.004144823294072492\n",
      "\n",
      "Dropping column: LotConfig_CulDSac: -0.0068588907827759355\n",
      "\n",
      "Dropping column: LotConfig_FR2: 0.018185562475503233\n",
      "\n",
      "Dropping column: LandSlope_Gtl: 0.042981159944370934\n",
      "\n",
      "Dropping column: LandSlope_Mod: 0.027997864142057176\n",
      "\n",
      "Dropping column: LandSlope_Sev: 0.01906564951350564\n",
      "\n",
      "Dropping column: Neighborhood_Blmngtn: -0.020250412762982277\n",
      "\n",
      "Dropping column: Neighborhood_Edwards: 0.035939622294684025\n",
      "\n",
      "Dropping column: Neighborhood_NAmes: -0.03790973990405031\n",
      "\n",
      "Dropping column: Neighborhood_NPkVill: 0.023482773020255355\n",
      "\n",
      "Dropping column: Neighborhood_Sawyer: 0.014560153318488835\n",
      "\n",
      "Dropping column: Condition1_Norm: 0.0420168990854169\n",
      "\n",
      "Dropping column: Condition1_PosA: 0.04954116844794432\n",
      "\n",
      "Dropping column: Condition1_PosN: -0.046651271352762445\n",
      "\n",
      "Dropping column: Condition1_RRAe: 0.005892711711544447\n",
      "\n",
      "Dropping column: Condition1_RRAn: 0.004583875135268431\n",
      "\n",
      "Dropping column: Condition1_RRNe: 0.02323633312450878\n",
      "\n",
      "Dropping column: Condition1_RRNn: -0.0347079324783958\n",
      "\n",
      "Dropping column: Condition2_Artery: -0.048334821003573336\n",
      "\n",
      "Dropping column: Condition2_Feedr: 0.030676288435637716\n",
      "\n",
      "Dropping column: Condition2_Norm: 0.04749723328144454\n",
      "\n",
      "Dropping column: Condition2_PosA: 0.048481102335697475\n",
      "\n",
      "Dropping column: Condition2_PosN: 0.0029929320927850563\n",
      "\n",
      "Dropping column: Condition2_RRAe: -0.014510444733969317\n",
      "\n",
      "Dropping column: Condition2_RRAn: -0.03925505561469524\n",
      "\n",
      "Dropping column: BldgType_Twnhs: 0.0038043834533088893\n",
      "\n",
      "Dropping column: HouseStyle_1Story: 0.036525722375987446\n",
      "\n",
      "Dropping column: HouseStyle_2.5Fin: -0.025855674595624382\n",
      "\n",
      "Dropping column: HouseStyle_SFoyer: -0.03864543349361034\n",
      "\n",
      "Dropping column: HouseStyle_SLvl: 0.016433478287942123\n",
      "\n",
      "Dropping column: RoofStyle_Gable: -0.035121434493649024\n",
      "\n",
      "Dropping column: RoofStyle_Hip: -0.0003083190938173009\n",
      "\n",
      "Dropping column: RoofStyle_Mansard: 0.020557102562781857\n",
      "\n",
      "Dropping column: RoofStyle_Shed: -0.006896912615805739\n",
      "\n",
      "Dropping column: RoofMatl_CompShg: 0.01997049884253312\n",
      "\n",
      "Dropping column: RoofMatl_Membran: -0.00030368281007855767\n",
      "\n",
      "Dropping column: RoofMatl_Metal: -0.01447912689239202\n",
      "\n",
      "Dropping column: RoofMatl_Roll: 0.0049208112142087096\n",
      "\n",
      "Dropping column: RoofMatl_Tar&Grv: 0.04464291700440552\n",
      "\n",
      "Dropping column: Exterior1st_AsbShng: -0.026676602032987568\n",
      "\n",
      "Dropping column: Exterior1st_BrkComm: 0.032371390691589993\n",
      "\n",
      "Dropping column: Exterior1st_BrkFace: -0.02502829458155547\n",
      "\n",
      "Dropping column: Exterior1st_HdBoard: 0.026728559393403007\n",
      "\n",
      "Dropping column: Exterior1st_MetalSd: -0.01771925649284015\n",
      "\n",
      "Dropping column: Exterior1st_Plywood: 0.036180551287502985\n",
      "\n",
      "Dropping column: Exterior1st_Stone: -0.029802258156837767\n",
      "\n",
      "Dropping column: Exterior2nd_AsbShng: -0.024524407793441318\n",
      "\n",
      "Dropping column: Exterior2nd_AsphShn: -0.04737690972154203\n",
      "\n",
      "Dropping column: Exterior2nd_Brk Cmn: 0.024758995691036425\n",
      "\n",
      "Dropping column: Exterior2nd_BrkFace: -0.02502829458155547\n",
      "\n",
      "Dropping column: Exterior2nd_HdBoard: 0.04551926433972633\n",
      "\n",
      "Dropping column: Exterior2nd_MetalSd: -0.016753527668945715\n",
      "\n",
      "Dropping column: Exterior2nd_Other: -0.04241569231469932\n",
      "\n",
      "Dropping column: Exterior2nd_Stone: -0.04032943564551994\n",
      "\n",
      "Dropping column: Exterior2nd_Stucco: -0.044393863680548006\n",
      "\n",
      "Dropping column: ExterQual_Ex: 0.011663132217102032\n",
      "\n",
      "Dropping column: ExterQual_TA: -0.03442364705471768\n",
      "\n",
      "Dropping column: Foundation_BrkTil: -0.01210263077585328\n",
      "\n",
      "Dropping column: Foundation_CBlock: 0.0027114775829150265\n",
      "\n",
      "Dropping column: BsmtCond_No: 0.043493083940889174\n",
      "\n",
      "Dropping column: BsmtFinType1_BLQ: 0.041961566284397095\n",
      "\n",
      "Dropping column: BsmtFinType1_LwQ: 7.551406179757809e-05\n",
      "\n",
      "Dropping column: BsmtFinType1_No: -0.037603947731137635\n",
      "\n",
      "Dropping column: BsmtFinType1_Rec: -0.03949393653165602\n",
      "\n",
      "Dropping column: BsmtFinType2_ALQ: -0.03574229301586219\n",
      "\n",
      "Dropping column: BsmtFinType2_GLQ: -0.020102599035433592\n",
      "\n",
      "Dropping column: BsmtFinType2_No: -0.02573027910672783\n",
      "\n",
      "Dropping column: Heating_GasW: -0.030962201406710747\n",
      "\n",
      "Dropping column: HeatingQC_Gd: -0.047760617694948077\n",
      "\n",
      "Dropping column: HeatingQC_Po: -0.03755543121243804\n",
      "\n",
      "Dropping column: Electrical_FuseP: -0.03341995349143347\n",
      "\n",
      "Dropping column: KitchenQual_Fa: -0.01607254127138059\n",
      "\n",
      "Dropping column: KitchenQual_Gd: -0.017116418814683152\n",
      "\n",
      "Dropping column: Functional_Maj2: -0.026085813898164965\n",
      "\n",
      "Dropping column: Functional_Typ: -0.02397376065437426\n",
      "\n",
      "Dropping column: FireplaceQu_Fa: -0.029424968522137\n",
      "\n",
      "Dropping column: GarageType_BuiltIn: 0.03432795990791618\n",
      "\n",
      "Dropping column: GarageType_Detchd: 0.04329050472499101\n",
      "\n",
      "Dropping column: GarageType_No: -0.04614170143131847\n",
      "\n",
      "Dropping column: GarageFinish_Fin: -0.026546429413243006\n",
      "\n",
      "Dropping column: GarageFinish_Unf: -0.000982975978289857\n",
      "\n",
      "Dropping column: GarageCond_0: 0.016126572327413147\n",
      "\n",
      "Dropping column: GarageCond_Ex: 0.01203833986879028\n",
      "\n",
      "Dropping column: GarageCond_Gd: -0.005151941767351678\n",
      "\n",
      "Dropping column: PavedDrive_Y: -0.004743556939191924\n",
      "\n",
      "Dropping column: PoolQC_Fa: -0.04053757752493366\n",
      "\n",
      "Dropping column: PoolQC_No: 0.02277262150996658\n",
      "\n",
      "Dropping column: Fence_GdWo: 0.019588066467574435\n",
      "\n",
      "Dropping column: Fence_MnPrv: 0.041357276088828436\n",
      "\n",
      "Dropping column: Fence_MnWw: -0.041790840641079345\n",
      "\n",
      "Dropping column: Fence_No: 0.014371054765972273\n",
      "\n",
      "Dropping column: MiscFeature_Gar2: -0.027475125928901712\n",
      "\n",
      "Dropping column: MiscFeature_Othr: -0.034894994917515354\n",
      "\n",
      "Dropping column: SaleType_CWD: -0.015525374015420043\n",
      "\n",
      "Dropping column: SaleType_Con: -0.04648019603234449\n",
      "\n",
      "flag: 110\n"
     ]
    }
   ],
   "source": [
    "flag = 0\n",
    "for x in range(len(corr)):\n",
    "    if corr[x] < 0.05 and corr[x] > -0.05:\n",
    "        flag += 1\n",
    "        print(f\"Dropping column: {df2.columns[x]}: {corr[x]}\")\n",
    "        df3 = df3.drop([x2.columns[x]], axis=1)\n",
    "        print()\n",
    "print(f\"flag: {flag}\")"
   ]
  },
  {
   "cell_type": "code",
   "execution_count": 33,
   "metadata": {},
   "outputs": [],
   "source": [
    "x = df3.drop(['SalePrice'],axis=1)"
   ]
  },
  {
   "cell_type": "code",
   "execution_count": 34,
   "metadata": {},
   "outputs": [],
   "source": [
    "x_train = x.iloc[:1460,:]\n",
    "y_train = y.iloc[:1460]\n",
    "x_test = x.iloc[1460:,:]\n",
    "y_test = y.iloc[1460:]"
   ]
  },
  {
   "cell_type": "markdown",
   "metadata": {},
   "source": [
    "# Correlation of target variables with all the features"
   ]
  },
  {
   "cell_type": "code",
   "execution_count": 35,
   "metadata": {},
   "outputs": [
    {
     "name": "stdout",
     "output_type": "stream",
     "text": [
      "0.01\n",
      "0.02\n",
      "0.03\n",
      "0.04\n",
      "0.05\n",
      "0.06\n",
      "0.07\n",
      "0.08\n",
      "0.09\n",
      "0.1\n",
      "0.11\n",
      "0.12\n",
      "0.13\n",
      "0.14\n",
      "0.15\n",
      "0.16\n",
      "0.17\n",
      "0.18\n"
     ]
    }
   ],
   "source": [
    "for t in range(1,19):\n",
    "    df3 = x2.copy()\n",
    "    df3['SalePrice'] = y\n",
    "    corr = df3.corr(method='pearson')['SalePrice']\n",
    "    flag = 0\n",
    "    for x in range(len(corr)):\n",
    "        if corr[x] < 0.05 and corr[x] > -0.05:\n",
    "            flag += 1\n",
    "\n",
    "            df3 = df3.drop([x2.columns[x]], axis=1)\n",
    "    print(t/100)\n",
    "    # print(f\"{flag}\")"
   ]
  },
  {
   "cell_type": "markdown",
   "metadata": {},
   "source": [
    "# Low Variance Filter"
   ]
  },
  {
   "cell_type": "code",
   "execution_count": 37,
   "metadata": {},
   "outputs": [],
   "source": [
    "df11 = df3.copy()\n",
    "var = df11.var()\n",
    "i = 0\n",
    "for x in range(len(var)):\n",
    "    if var[x] < t/1000:\n",
    "        i += 1\n",
    "        # print(var[x:x+1])\n",
    "        df11 = df11.drop([df3.columns[x]], axis=1)\n",
    "        #print(f\"dropping: {df3.columns[x]}\")\n",
    "print(f'Columns dropped:{i}')"
   ]
  },
  {
   "cell_type": "markdown",
   "metadata": {},
   "source": [
    "# Model"
   ]
  },
  {
   "cell_type": "markdown",
   "metadata": {},
   "source": [
    "# Splitting of data"
   ]
  },
  {
   "cell_type": "code",
   "execution_count": 39,
   "metadata": {},
   "outputs": [],
   "source": [
    "dataset = df11"
   ]
  },
  {
   "cell_type": "code",
   "execution_count": 40,
   "metadata": {},
   "outputs": [],
   "source": [
    "x_train = dataset.iloc[:1460,:]\n",
    "y_train = dataset.iloc[:1460]\n",
    "x_test = dataset.iloc[1460:,:]\n",
    "y_test = dataset.iloc[1460:]"
   ]
  },
  {
   "cell_type": "code",
   "execution_count": 41,
   "metadata": {},
   "outputs": [],
   "source": [
    "from sklearn.model_selection import train_test_split"
   ]
  },
  {
   "cell_type": "code",
   "execution_count": 43,
   "metadata": {},
   "outputs": [],
   "source": [
    "x_tr, x_val, y_tr, y_val = train_test_split(dataset.iloc[:1460,:], dataset.iloc[:1460], test_size = 0.3, random_state = 0)"
   ]
  },
  {
   "cell_type": "markdown",
   "metadata": {},
   "source": [
    "# Standardizing the Data"
   ]
  },
  {
   "cell_type": "code",
   "execution_count": null,
   "metadata": {},
   "outputs": [],
   "source": [
    "'''\n",
    "from sklearn.preprocessing import StandardScaler\n",
    "scaler = StandardScaler()\n",
    "scaler.fit(x_tr)\n",
    "x_tr_scaled = scaler.transform(x_tr)\n",
    "x_val_scaled = scaler.transform(x_val)\n",
    "'''"
   ]
  },
  {
   "cell_type": "markdown",
   "metadata": {},
   "source": [
    "# Gradient Boosting"
   ]
  },
  {
   "cell_type": "code",
   "execution_count": 44,
   "metadata": {},
   "outputs": [],
   "source": [
    "from sklearn.ensemble import GradientBoostingRegressor as GB"
   ]
  },
  {
   "cell_type": "markdown",
   "metadata": {},
   "source": [
    "# ElasticCV"
   ]
  },
  {
   "cell_type": "code",
   "execution_count": 45,
   "metadata": {},
   "outputs": [],
   "source": [
    "from sklearn.linear_model import ElasticNetCV"
   ]
  },
  {
   "cell_type": "code",
   "execution_count": 46,
   "metadata": {},
   "outputs": [],
   "source": [
    "ECV = ElasticNetCV()"
   ]
  },
  {
   "cell_type": "code",
   "execution_count": null,
   "metadata": {},
   "outputs": [],
   "source": [
    "paragrid = { l1_ratio=[0.5,0.7,0.9,0.95],\n",
    "            n_alphas=[100,200,300]\n",
    "            }"
   ]
  }
 ],
 "metadata": {
  "kernelspec": {
   "display_name": "Python 3",
   "language": "python",
   "name": "python3"
  },
  "language_info": {
   "codemirror_mode": {
    "name": "ipython",
    "version": 3
   },
   "file_extension": ".py",
   "mimetype": "text/x-python",
   "name": "python",
   "nbconvert_exporter": "python",
   "pygments_lexer": "ipython3",
   "version": "3.7.4"
  }
 },
 "nbformat": 4,
 "nbformat_minor": 2
}
